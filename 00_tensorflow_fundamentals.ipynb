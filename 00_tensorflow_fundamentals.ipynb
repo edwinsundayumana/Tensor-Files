{
  "nbformat": 4,
  "nbformat_minor": 0,
  "metadata": {
    "colab": {
      "provenance": [],
      "collapsed_sections": [],
      "authorship_tag": "ABX9TyPh5RfXahKIANKk7NvX/KOD"
    },
    "kernelspec": {
      "name": "python3",
      "display_name": "Python 3"
    },
    "language_info": {
      "name": "python"
    }
  },
  "cells": [
    {
      "cell_type": "markdown",
      "source": [
        "# In this notebook, its more about the fundamentals of tensors using Tensorflow\n",
        "\n"
      ],
      "metadata": {
        "id": "GIPOxATKWrpD"
      }
    },
    {
      "cell_type": "code",
      "source": [
        "# Import TensorFLow\n",
        "import tensorflow as tf\n",
        "print(tf.__version__)"
      ],
      "metadata": {
        "colab": {
          "base_uri": "https://localhost:8080/"
        },
        "id": "mhy900oxJv8o",
        "outputId": "38341dde-2734-4143-fe62-b334f840e3fe"
      },
      "execution_count": 40,
      "outputs": [
        {
          "output_type": "stream",
          "name": "stdout",
          "text": [
            "2.8.2\n"
          ]
        }
      ]
    },
    {
      "cell_type": "code",
      "source": [
        "# Create tensors with tf.constant()\n",
        "scalar = tf.constant(7)\n",
        "scalar"
      ],
      "metadata": {
        "colab": {
          "base_uri": "https://localhost:8080/"
        },
        "id": "6fhyCn63LwYA",
        "outputId": "87ee8afe-affd-4e00-c18a-3eb04b8c4af0"
      },
      "execution_count": 41,
      "outputs": [
        {
          "output_type": "execute_result",
          "data": {
            "text/plain": [
              "<tf.Tensor: shape=(), dtype=int32, numpy=7>"
            ]
          },
          "metadata": {},
          "execution_count": 41
        }
      ]
    },
    {
      "cell_type": "code",
      "source": [
        "# Check the number of dimensions of a tesor (ndim stands for number of dimesion)\n",
        "scalar.ndim"
      ],
      "metadata": {
        "colab": {
          "base_uri": "https://localhost:8080/"
        },
        "id": "GVmX1g0FNxPS",
        "outputId": "f4a105a5-08b8-426d-9041-38f7275255ba"
      },
      "execution_count": 42,
      "outputs": [
        {
          "output_type": "execute_result",
          "data": {
            "text/plain": [
              "0"
            ]
          },
          "metadata": {},
          "execution_count": 42
        }
      ]
    },
    {
      "cell_type": "code",
      "source": [
        "# Create a vector\n",
        "vector = tf.constant([10,10])\n",
        "vector"
      ],
      "metadata": {
        "colab": {
          "base_uri": "https://localhost:8080/"
        },
        "id": "fHX0GNqzPB6T",
        "outputId": "71bb6ca7-a2b4-4079-a761-094522eb477f"
      },
      "execution_count": 43,
      "outputs": [
        {
          "output_type": "execute_result",
          "data": {
            "text/plain": [
              "<tf.Tensor: shape=(2,), dtype=int32, numpy=array([10, 10], dtype=int32)>"
            ]
          },
          "metadata": {},
          "execution_count": 43
        }
      ]
    },
    {
      "cell_type": "code",
      "source": [
        "# Check the dimension of the vector\n",
        "vector.ndim"
      ],
      "metadata": {
        "colab": {
          "base_uri": "https://localhost:8080/"
        },
        "id": "8RHf580QPi0T",
        "outputId": "fd46d3e7-a5bd-4434-caa8-f4d32815c4c6"
      },
      "execution_count": 44,
      "outputs": [
        {
          "output_type": "execute_result",
          "data": {
            "text/plain": [
              "1"
            ]
          },
          "metadata": {},
          "execution_count": 44
        }
      ]
    },
    {
      "cell_type": "code",
      "source": [
        "# Create a matrix(has more than one dimension)\n",
        "matrix = tf.constant([[10, 7],\n",
        "                     [7, 10]])\n",
        "matrix"
      ],
      "metadata": {
        "colab": {
          "base_uri": "https://localhost:8080/"
        },
        "id": "4YyiglOtQdGl",
        "outputId": "11a4d0ed-2a4e-4a63-d0e9-a95d5a402ab9"
      },
      "execution_count": 45,
      "outputs": [
        {
          "output_type": "execute_result",
          "data": {
            "text/plain": [
              "<tf.Tensor: shape=(2, 2), dtype=int32, numpy=\n",
              "array([[10,  7],\n",
              "       [ 7, 10]], dtype=int32)>"
            ]
          },
          "metadata": {},
          "execution_count": 45
        }
      ]
    },
    {
      "cell_type": "code",
      "source": [
        "# Check the dimension of the matrix\n",
        "matrix.ndim"
      ],
      "metadata": {
        "colab": {
          "base_uri": "https://localhost:8080/"
        },
        "id": "Y8KCJKkaRT9W",
        "outputId": "e3bc7351-809c-4916-b0df-7167aba01ce3"
      },
      "execution_count": 46,
      "outputs": [
        {
          "output_type": "execute_result",
          "data": {
            "text/plain": [
              "2"
            ]
          },
          "metadata": {},
          "execution_count": 46
        }
      ]
    },
    {
      "cell_type": "code",
      "source": [
        "# Create anothter type of matrix\n",
        "ano_matrix = tf.constant([[3., 2.],\n",
        "                          [4., 3.],\n",
        "                          [4., 8.]], dtype=tf.float16) #specifying the data type\n",
        "\n",
        "ano_matrix"
      ],
      "metadata": {
        "colab": {
          "base_uri": "https://localhost:8080/"
        },
        "id": "G8npllu7R5zc",
        "outputId": "1a39e0d4-85c6-4c15-99d3-f7062faff1a8"
      },
      "execution_count": 47,
      "outputs": [
        {
          "output_type": "execute_result",
          "data": {
            "text/plain": [
              "<tf.Tensor: shape=(3, 2), dtype=float16, numpy=\n",
              "array([[3., 2.],\n",
              "       [4., 3.],\n",
              "       [4., 8.]], dtype=float16)>"
            ]
          },
          "metadata": {},
          "execution_count": 47
        }
      ]
    },
    {
      "cell_type": "code",
      "source": [
        "# check the nnumber of dimensions\n",
        "ano_matrix.ndim"
      ],
      "metadata": {
        "colab": {
          "base_uri": "https://localhost:8080/"
        },
        "id": "7OV41I9XTjmj",
        "outputId": "f39b3c87-181b-4228-e6a1-8a53d6a93021"
      },
      "execution_count": 48,
      "outputs": [
        {
          "output_type": "execute_result",
          "data": {
            "text/plain": [
              "2"
            ]
          },
          "metadata": {},
          "execution_count": 48
        }
      ]
    },
    {
      "cell_type": "code",
      "source": [
        "#  Creating a tensor\n",
        "tensor = tf.constant([[[1, 2, 3],\n",
        "                       [4, 5, 6]],\n",
        "                       [[7, 8, 9],\n",
        "                        [10, 11, 12]],\n",
        "                      [[13, 14, 15],\n",
        "                       [16, 17, 18]]])\n",
        "tensor"
      ],
      "metadata": {
        "colab": {
          "base_uri": "https://localhost:8080/"
        },
        "id": "QBCfOKfET-Zf",
        "outputId": "dd99c10e-353f-4b6c-a140-533ff754cead"
      },
      "execution_count": 49,
      "outputs": [
        {
          "output_type": "execute_result",
          "data": {
            "text/plain": [
              "<tf.Tensor: shape=(3, 2, 3), dtype=int32, numpy=\n",
              "array([[[ 1,  2,  3],\n",
              "        [ 4,  5,  6]],\n",
              "\n",
              "       [[ 7,  8,  9],\n",
              "        [10, 11, 12]],\n",
              "\n",
              "       [[13, 14, 15],\n",
              "        [16, 17, 18]]], dtype=int32)>"
            ]
          },
          "metadata": {},
          "execution_count": 49
        }
      ]
    },
    {
      "cell_type": "code",
      "source": [
        "# Check the number of dimension\n",
        "tensor.ndim"
      ],
      "metadata": {
        "colab": {
          "base_uri": "https://localhost:8080/"
        },
        "id": "V0G2gCAEVjNi",
        "outputId": "525e20a8-8284-409b-b5ed-9d1391f24e6e"
      },
      "execution_count": 50,
      "outputs": [
        {
          "output_type": "execute_result",
          "data": {
            "text/plain": [
              "3"
            ]
          },
          "metadata": {},
          "execution_count": 50
        }
      ]
    },
    {
      "cell_type": "code",
      "source": [
        "# Create the same tensor with tf.Variable() as above\n",
        "changeable_tensor = tf.Variable([10, 7])\n",
        "unchangeable_tensor = tf.constant([10, 7])\n",
        "changeable_tensor, unchangeable_tensor "
      ],
      "metadata": {
        "id": "s96qJoR2V-eW",
        "colab": {
          "base_uri": "https://localhost:8080/"
        },
        "outputId": "9ebe9896-7884-469e-f870-5951f562a464"
      },
      "execution_count": 51,
      "outputs": [
        {
          "output_type": "execute_result",
          "data": {
            "text/plain": [
              "(<tf.Variable 'Variable:0' shape=(2,) dtype=int32, numpy=array([10,  7], dtype=int32)>,\n",
              " <tf.Tensor: shape=(2,), dtype=int32, numpy=array([10,  7], dtype=int32)>)"
            ]
          },
          "metadata": {},
          "execution_count": 51
        }
      ]
    },
    {
      "cell_type": "code",
      "source": [
        "# checking the indexing\n",
        "changeable_tensor[1] "
      ],
      "metadata": {
        "colab": {
          "base_uri": "https://localhost:8080/"
        },
        "id": "bZuD2XDf1Hx5",
        "outputId": "77f1c201-8491-401f-f462-8357f1ef5c86"
      },
      "execution_count": 52,
      "outputs": [
        {
          "output_type": "execute_result",
          "data": {
            "text/plain": [
              "<tf.Tensor: shape=(), dtype=int32, numpy=7>"
            ]
          },
          "metadata": {},
          "execution_count": 52
        }
      ]
    },
    {
      "cell_type": "code",
      "source": [
        "# Changing the values in the index\n",
        "changeable_tensor[1].assign(10)\n",
        "changeable_tensor"
      ],
      "metadata": {
        "colab": {
          "base_uri": "https://localhost:8080/"
        },
        "id": "cJVRZGIs2A6L",
        "outputId": "02c6b1f6-80af-4c3e-c046-dda79a5872de"
      },
      "execution_count": 53,
      "outputs": [
        {
          "output_type": "execute_result",
          "data": {
            "text/plain": [
              "<tf.Variable 'Variable:0' shape=(2,) dtype=int32, numpy=array([10, 10], dtype=int32)>"
            ]
          },
          "metadata": {},
          "execution_count": 53
        }
      ]
    },
    {
      "cell_type": "code",
      "source": [
        "# Creating random tensors \n",
        "random_1 = tf.random.Generator.from_seed(42)  #set seed for reproducibility\n",
        "random_1 = random_1.normal(shape=(3, 2))\n",
        "random_2 = tf.random.Generator.from_seed(42)\n",
        "random_2 = random_2.normal(shape=(3, 2))\n",
        "random_1, random_2, random_1==random_2"
      ],
      "metadata": {
        "colab": {
          "base_uri": "https://localhost:8080/"
        },
        "id": "M8227xCD2y4t",
        "outputId": "fba84c2a-8b36-49c9-a353-4ff5f09bc758"
      },
      "execution_count": 54,
      "outputs": [
        {
          "output_type": "execute_result",
          "data": {
            "text/plain": [
              "(<tf.Tensor: shape=(3, 2), dtype=float32, numpy=\n",
              " array([[-0.7565803 , -0.06854702],\n",
              "        [ 0.07595026, -1.2573844 ],\n",
              "        [-0.23193763, -1.8107855 ]], dtype=float32)>,\n",
              " <tf.Tensor: shape=(3, 2), dtype=float32, numpy=\n",
              " array([[-0.7565803 , -0.06854702],\n",
              "        [ 0.07595026, -1.2573844 ],\n",
              "        [-0.23193763, -1.8107855 ]], dtype=float32)>,\n",
              " <tf.Tensor: shape=(3, 2), dtype=bool, numpy=\n",
              " array([[ True,  True],\n",
              "        [ True,  True],\n",
              "        [ True,  True]])>)"
            ]
          },
          "metadata": {},
          "execution_count": 54
        }
      ]
    },
    {
      "cell_type": "code",
      "source": [
        "# Shuffle the order of elements in a tensor\n",
        "not_shuffled = tf.constant([[8, 9],\n",
        "                            [3, 6],\n",
        "                            [2, 7]])\n",
        "not_shuffled\n",
        "tf.random.shuffle(not_shuffled)\n",
        "\n",
        "# adding a seed(This creates a random shuffe)\n",
        "tf.random.set_seed(7)\n",
        "tf.random.shuffle(not_shuffled, seed = 7)\n"
      ],
      "metadata": {
        "id": "MbUDLnmC7jA_",
        "colab": {
          "base_uri": "https://localhost:8080/"
        },
        "outputId": "f88867b3-619f-42bf-d3bf-37dd85dfe467"
      },
      "execution_count": 55,
      "outputs": [
        {
          "output_type": "execute_result",
          "data": {
            "text/plain": [
              "<tf.Tensor: shape=(3, 2), dtype=int32, numpy=\n",
              "array([[3, 6],\n",
              "       [8, 9],\n",
              "       [2, 7]], dtype=int32)>"
            ]
          },
          "metadata": {},
          "execution_count": 55
        }
      ]
    },
    {
      "cell_type": "code",
      "source": [
        "A = tf.constant([[2,3,4],\n",
        "                [2, 4, 5]])\n",
        "# A.ndim\n",
        "# tf.size(A).numpy()\n",
        "# print(tf.shape(A).numpy())\n",
        "# A.shape"
      ],
      "metadata": {
        "id": "D20bqwj3lN0z"
      },
      "execution_count": 56,
      "outputs": []
    },
    {
      "cell_type": "code",
      "source": [
        "# a = tf.zeros([2, 2])\n",
        "# a\n",
        "b = tf.ones([3, 4])\n",
        "b = tf.reshape(b, [2,3,2])\n",
        "b + 8, b"
      ],
      "metadata": {
        "colab": {
          "base_uri": "https://localhost:8080/"
        },
        "id": "vA3__iF7uuBx",
        "outputId": "9d220718-6259-48c8-c5b5-eb26c06dc445"
      },
      "execution_count": 57,
      "outputs": [
        {
          "output_type": "execute_result",
          "data": {
            "text/plain": [
              "(<tf.Tensor: shape=(2, 3, 2), dtype=float32, numpy=\n",
              " array([[[9., 9.],\n",
              "         [9., 9.],\n",
              "         [9., 9.]],\n",
              " \n",
              "        [[9., 9.],\n",
              "         [9., 9.],\n",
              "         [9., 9.]]], dtype=float32)>,\n",
              " <tf.Tensor: shape=(2, 3, 2), dtype=float32, numpy=\n",
              " array([[[1., 1.],\n",
              "         [1., 1.],\n",
              "         [1., 1.]],\n",
              " \n",
              "        [[1., 1.],\n",
              "         [1., 1.],\n",
              "         [1., 1.]]], dtype=float32)>)"
            ]
          },
          "metadata": {},
          "execution_count": 57
        }
      ]
    },
    {
      "cell_type": "code",
      "source": [],
      "metadata": {
        "id": "DqtXJ0hY16aw"
      },
      "execution_count": 57,
      "outputs": []
    }
  ]
}