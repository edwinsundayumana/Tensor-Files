{
  "nbformat": 4,
  "nbformat_minor": 0,
  "metadata": {
    "colab": {
      "provenance": [],
      "collapsed_sections": [],
      "authorship_tag": "ABX9TyMgp9PKOeBTrnAdm3HrF7pH"
    },
    "kernelspec": {
      "name": "python3",
      "display_name": "Python 3"
    },
    "language_info": {
      "name": "python"
    }
  },
  "cells": [
    {
      "cell_type": "markdown",
      "source": [
        "# In this notebook, its more about the fundamentals of tensors using Tensorflow\n",
        "\n"
      ],
      "metadata": {
        "id": "GIPOxATKWrpD"
      }
    },
    {
      "cell_type": "code",
      "source": [
        "# Import TensorFLow\n",
        "import tensorflow as tf\n",
        "print(tf.__version__)"
      ],
      "metadata": {
        "colab": {
          "base_uri": "https://localhost:8080/"
        },
        "id": "mhy900oxJv8o",
        "outputId": "38341dde-2734-4143-fe62-b334f840e3fe"
      },
      "execution_count": null,
      "outputs": [
        {
          "output_type": "stream",
          "name": "stdout",
          "text": [
            "2.8.2\n"
          ]
        }
      ]
    },
    {
      "cell_type": "code",
      "source": [
        "# Create tensors with tf.constant()\n",
        "scalar = tf.constant(7)\n",
        "scalar"
      ],
      "metadata": {
        "colab": {
          "base_uri": "https://localhost:8080/"
        },
        "id": "6fhyCn63LwYA",
        "outputId": "87ee8afe-affd-4e00-c18a-3eb04b8c4af0"
      },
      "execution_count": null,
      "outputs": [
        {
          "output_type": "execute_result",
          "data": {
            "text/plain": [
              "<tf.Tensor: shape=(), dtype=int32, numpy=7>"
            ]
          },
          "metadata": {},
          "execution_count": 41
        }
      ]
    },
    {
      "cell_type": "code",
      "source": [
        "# Check the number of dimensions of a tesor (ndim stands for number of dimesion)\n",
        "scalar.ndim"
      ],
      "metadata": {
        "colab": {
          "base_uri": "https://localhost:8080/"
        },
        "id": "GVmX1g0FNxPS",
        "outputId": "f4a105a5-08b8-426d-9041-38f7275255ba"
      },
      "execution_count": null,
      "outputs": [
        {
          "output_type": "execute_result",
          "data": {
            "text/plain": [
              "0"
            ]
          },
          "metadata": {},
          "execution_count": 42
        }
      ]
    },
    {
      "cell_type": "code",
      "source": [
        "# Create a vector\n",
        "vector = tf.constant([10,10])\n",
        "vector"
      ],
      "metadata": {
        "colab": {
          "base_uri": "https://localhost:8080/"
        },
        "id": "fHX0GNqzPB6T",
        "outputId": "71bb6ca7-a2b4-4079-a761-094522eb477f"
      },
      "execution_count": null,
      "outputs": [
        {
          "output_type": "execute_result",
          "data": {
            "text/plain": [
              "<tf.Tensor: shape=(2,), dtype=int32, numpy=array([10, 10], dtype=int32)>"
            ]
          },
          "metadata": {},
          "execution_count": 43
        }
      ]
    },
    {
      "cell_type": "code",
      "source": [
        "# Check the dimension of the vector\n",
        "vector.ndim"
      ],
      "metadata": {
        "colab": {
          "base_uri": "https://localhost:8080/"
        },
        "id": "8RHf580QPi0T",
        "outputId": "fd46d3e7-a5bd-4434-caa8-f4d32815c4c6"
      },
      "execution_count": null,
      "outputs": [
        {
          "output_type": "execute_result",
          "data": {
            "text/plain": [
              "1"
            ]
          },
          "metadata": {},
          "execution_count": 44
        }
      ]
    },
    {
      "cell_type": "code",
      "source": [
        "# Create a matrix(has more than one dimension)\n",
        "matrix = tf.constant([[10, 7],\n",
        "                     [7, 10]])\n",
        "matrix"
      ],
      "metadata": {
        "colab": {
          "base_uri": "https://localhost:8080/"
        },
        "id": "4YyiglOtQdGl",
        "outputId": "11a4d0ed-2a4e-4a63-d0e9-a95d5a402ab9"
      },
      "execution_count": null,
      "outputs": [
        {
          "output_type": "execute_result",
          "data": {
            "text/plain": [
              "<tf.Tensor: shape=(2, 2), dtype=int32, numpy=\n",
              "array([[10,  7],\n",
              "       [ 7, 10]], dtype=int32)>"
            ]
          },
          "metadata": {},
          "execution_count": 45
        }
      ]
    },
    {
      "cell_type": "code",
      "source": [
        "# Check the dimension of the matrix\n",
        "matrix.ndim"
      ],
      "metadata": {
        "colab": {
          "base_uri": "https://localhost:8080/"
        },
        "id": "Y8KCJKkaRT9W",
        "outputId": "e3bc7351-809c-4916-b0df-7167aba01ce3"
      },
      "execution_count": null,
      "outputs": [
        {
          "output_type": "execute_result",
          "data": {
            "text/plain": [
              "2"
            ]
          },
          "metadata": {},
          "execution_count": 46
        }
      ]
    },
    {
      "cell_type": "code",
      "source": [
        "# Create anothter type of matrix\n",
        "ano_matrix = tf.constant([[3., 2.],\n",
        "                          [4., 3.],\n",
        "                          [4., 8.]], dtype=tf.float16) #specifying the data type\n",
        "\n",
        "ano_matrix"
      ],
      "metadata": {
        "colab": {
          "base_uri": "https://localhost:8080/"
        },
        "id": "G8npllu7R5zc",
        "outputId": "1a39e0d4-85c6-4c15-99d3-f7062faff1a8"
      },
      "execution_count": null,
      "outputs": [
        {
          "output_type": "execute_result",
          "data": {
            "text/plain": [
              "<tf.Tensor: shape=(3, 2), dtype=float16, numpy=\n",
              "array([[3., 2.],\n",
              "       [4., 3.],\n",
              "       [4., 8.]], dtype=float16)>"
            ]
          },
          "metadata": {},
          "execution_count": 47
        }
      ]
    },
    {
      "cell_type": "code",
      "source": [
        "# check the nnumber of dimensions\n",
        "ano_matrix.ndim"
      ],
      "metadata": {
        "colab": {
          "base_uri": "https://localhost:8080/"
        },
        "id": "7OV41I9XTjmj",
        "outputId": "f39b3c87-181b-4228-e6a1-8a53d6a93021"
      },
      "execution_count": null,
      "outputs": [
        {
          "output_type": "execute_result",
          "data": {
            "text/plain": [
              "2"
            ]
          },
          "metadata": {},
          "execution_count": 48
        }
      ]
    },
    {
      "cell_type": "code",
      "source": [
        "#  Creating a tensor\n",
        "tensor = tf.constant([[[1, 2, 3],\n",
        "                       [4, 5, 6]],\n",
        "                       [[7, 8, 9],\n",
        "                        [10, 11, 12]],\n",
        "                      [[13, 14, 15],\n",
        "                       [16, 17, 18]]])\n",
        "tensor"
      ],
      "metadata": {
        "colab": {
          "base_uri": "https://localhost:8080/"
        },
        "id": "QBCfOKfET-Zf",
        "outputId": "dd99c10e-353f-4b6c-a140-533ff754cead"
      },
      "execution_count": null,
      "outputs": [
        {
          "output_type": "execute_result",
          "data": {
            "text/plain": [
              "<tf.Tensor: shape=(3, 2, 3), dtype=int32, numpy=\n",
              "array([[[ 1,  2,  3],\n",
              "        [ 4,  5,  6]],\n",
              "\n",
              "       [[ 7,  8,  9],\n",
              "        [10, 11, 12]],\n",
              "\n",
              "       [[13, 14, 15],\n",
              "        [16, 17, 18]]], dtype=int32)>"
            ]
          },
          "metadata": {},
          "execution_count": 49
        }
      ]
    },
    {
      "cell_type": "code",
      "source": [
        "# Check the number of dimension\n",
        "tensor.ndim"
      ],
      "metadata": {
        "colab": {
          "base_uri": "https://localhost:8080/"
        },
        "id": "V0G2gCAEVjNi",
        "outputId": "525e20a8-8284-409b-b5ed-9d1391f24e6e"
      },
      "execution_count": null,
      "outputs": [
        {
          "output_type": "execute_result",
          "data": {
            "text/plain": [
              "3"
            ]
          },
          "metadata": {},
          "execution_count": 50
        }
      ]
    },
    {
      "cell_type": "code",
      "source": [
        "# Create the same tensor with tf.Variable() as above\n",
        "changeable_tensor = tf.Variable([10, 7])\n",
        "unchangeable_tensor = tf.constant([10, 7])\n",
        "changeable_tensor, unchangeable_tensor "
      ],
      "metadata": {
        "id": "s96qJoR2V-eW",
        "colab": {
          "base_uri": "https://localhost:8080/"
        },
        "outputId": "9ebe9896-7884-469e-f870-5951f562a464"
      },
      "execution_count": null,
      "outputs": [
        {
          "output_type": "execute_result",
          "data": {
            "text/plain": [
              "(<tf.Variable 'Variable:0' shape=(2,) dtype=int32, numpy=array([10,  7], dtype=int32)>,\n",
              " <tf.Tensor: shape=(2,), dtype=int32, numpy=array([10,  7], dtype=int32)>)"
            ]
          },
          "metadata": {},
          "execution_count": 51
        }
      ]
    },
    {
      "cell_type": "code",
      "source": [
        "# checking the indexing\n",
        "changeable_tensor[1] "
      ],
      "metadata": {
        "colab": {
          "base_uri": "https://localhost:8080/"
        },
        "id": "bZuD2XDf1Hx5",
        "outputId": "77f1c201-8491-401f-f462-8357f1ef5c86"
      },
      "execution_count": null,
      "outputs": [
        {
          "output_type": "execute_result",
          "data": {
            "text/plain": [
              "<tf.Tensor: shape=(), dtype=int32, numpy=7>"
            ]
          },
          "metadata": {},
          "execution_count": 52
        }
      ]
    },
    {
      "cell_type": "code",
      "source": [
        "# Changing the values in the index\n",
        "changeable_tensor[1].assign(10)\n",
        "changeable_tensor"
      ],
      "metadata": {
        "colab": {
          "base_uri": "https://localhost:8080/"
        },
        "id": "cJVRZGIs2A6L",
        "outputId": "02c6b1f6-80af-4c3e-c046-dda79a5872de"
      },
      "execution_count": null,
      "outputs": [
        {
          "output_type": "execute_result",
          "data": {
            "text/plain": [
              "<tf.Variable 'Variable:0' shape=(2,) dtype=int32, numpy=array([10, 10], dtype=int32)>"
            ]
          },
          "metadata": {},
          "execution_count": 53
        }
      ]
    },
    {
      "cell_type": "code",
      "source": [
        "# Creating random tensors \n",
        "random_1 = tf.random.Generator.from_seed(42)  #set seed for reproducibility\n",
        "random_1 = random_1.normal(shape=(3, 2))\n",
        "random_2 = tf.random.Generator.from_seed(42)\n",
        "random_2 = random_2.normal(shape=(3, 2))\n",
        "random_1, random_2, random_1==random_2"
      ],
      "metadata": {
        "colab": {
          "base_uri": "https://localhost:8080/"
        },
        "id": "M8227xCD2y4t",
        "outputId": "fba84c2a-8b36-49c9-a353-4ff5f09bc758"
      },
      "execution_count": null,
      "outputs": [
        {
          "output_type": "execute_result",
          "data": {
            "text/plain": [
              "(<tf.Tensor: shape=(3, 2), dtype=float32, numpy=\n",
              " array([[-0.7565803 , -0.06854702],\n",
              "        [ 0.07595026, -1.2573844 ],\n",
              "        [-0.23193763, -1.8107855 ]], dtype=float32)>,\n",
              " <tf.Tensor: shape=(3, 2), dtype=float32, numpy=\n",
              " array([[-0.7565803 , -0.06854702],\n",
              "        [ 0.07595026, -1.2573844 ],\n",
              "        [-0.23193763, -1.8107855 ]], dtype=float32)>,\n",
              " <tf.Tensor: shape=(3, 2), dtype=bool, numpy=\n",
              " array([[ True,  True],\n",
              "        [ True,  True],\n",
              "        [ True,  True]])>)"
            ]
          },
          "metadata": {},
          "execution_count": 54
        }
      ]
    },
    {
      "cell_type": "code",
      "source": [
        "# Shuffle the order of elements in a tensor\n",
        "not_shuffled = tf.constant([[8, 9],\n",
        "                            [3, 6],\n",
        "                            [2, 7]])\n",
        "not_shuffled\n",
        "tf.random.shuffle(not_shuffled)\n",
        "\n",
        "# adding a seed(This creates a random shuffe)\n",
        "tf.random.set_seed(7)\n",
        "tf.random.shuffle(not_shuffled, seed = 7)\n"
      ],
      "metadata": {
        "id": "MbUDLnmC7jA_",
        "colab": {
          "base_uri": "https://localhost:8080/"
        },
        "outputId": "f88867b3-619f-42bf-d3bf-37dd85dfe467"
      },
      "execution_count": null,
      "outputs": [
        {
          "output_type": "execute_result",
          "data": {
            "text/plain": [
              "<tf.Tensor: shape=(3, 2), dtype=int32, numpy=\n",
              "array([[3, 6],\n",
              "       [8, 9],\n",
              "       [2, 7]], dtype=int32)>"
            ]
          },
          "metadata": {},
          "execution_count": 55
        }
      ]
    },
    {
      "cell_type": "code",
      "source": [
        "A = tf.constant([[2,3,4],\n",
        "                [2, 4, 5]])\n",
        "# A.ndim\n",
        "# tf.size(A).numpy()\n",
        "# print(tf.shape(A).numpy())\n",
        "# A.shape"
      ],
      "metadata": {
        "id": "D20bqwj3lN0z"
      },
      "execution_count": null,
      "outputs": []
    },
    {
      "cell_type": "code",
      "source": [
        "# a = tf.zeros([2, 2])\n",
        "# a\n",
        "b = tf.ones([3, 4])\n",
        "b = tf.reshape(b, [2,3,2])\n",
        "b + 8, b"
      ],
      "metadata": {
        "colab": {
          "base_uri": "https://localhost:8080/"
        },
        "id": "vA3__iF7uuBx",
        "outputId": "9d220718-6259-48c8-c5b5-eb26c06dc445"
      },
      "execution_count": null,
      "outputs": [
        {
          "output_type": "execute_result",
          "data": {
            "text/plain": [
              "(<tf.Tensor: shape=(2, 3, 2), dtype=float32, numpy=\n",
              " array([[[9., 9.],\n",
              "         [9., 9.],\n",
              "         [9., 9.]],\n",
              " \n",
              "        [[9., 9.],\n",
              "         [9., 9.],\n",
              "         [9., 9.]]], dtype=float32)>,\n",
              " <tf.Tensor: shape=(2, 3, 2), dtype=float32, numpy=\n",
              " array([[[1., 1.],\n",
              "         [1., 1.],\n",
              "         [1., 1.]],\n",
              " \n",
              "        [[1., 1.],\n",
              "         [1., 1.],\n",
              "         [1., 1.]]], dtype=float32)>)"
            ]
          },
          "metadata": {},
          "execution_count": 57
        }
      ]
    },
    {
      "cell_type": "code",
      "source": [
        " b.dtype #data type of the  tensor\n",
        " b[:2, :2, :1]"
      ],
      "metadata": {
        "id": "DqtXJ0hY16aw",
        "colab": {
          "base_uri": "https://localhost:8080/"
        },
        "outputId": "cee21ab3-e5c5-4474-d990-58b8b9aa5f61"
      },
      "execution_count": null,
      "outputs": [
        {
          "output_type": "execute_result",
          "data": {
            "text/plain": [
              "<tf.Tensor: shape=(2, 2, 1), dtype=float32, numpy=\n",
              "array([[[1.],\n",
              "        [1.]],\n",
              "\n",
              "       [[1.],\n",
              "        [1.]]], dtype=float32)>"
            ]
          },
          "metadata": {},
          "execution_count": 64
        }
      ]
    },
    {
      "cell_type": "code",
      "source": [
        "# tf.add(b, 50)\n",
        "# tf.subtract(b, 4)\n",
        "# tf.multiply(b, 54.5)\n",
        "b = tf.reshape(b, [2, 2, 3])\n",
        "b\n",
        "# tf.math.multiply(b, 32)\n",
        "tf.math.add(b, 42)"
      ],
      "metadata": {
        "colab": {
          "base_uri": "https://localhost:8080/"
        },
        "id": "d3NRCRB25Zo6",
        "outputId": "5ee2a643-6f0d-4d96-b014-e076eba3b6a7"
      },
      "execution_count": null,
      "outputs": [
        {
          "output_type": "execute_result",
          "data": {
            "text/plain": [
              "<tf.Tensor: shape=(2, 2, 3), dtype=float32, numpy=\n",
              "array([[[43., 43., 43.],\n",
              "        [43., 43., 43.]],\n",
              "\n",
              "       [[43., 43., 43.],\n",
              "        [43., 43., 43.]]], dtype=float32)>"
            ]
          },
          "metadata": {},
          "execution_count": 70
        }
      ]
    },
    {
      "cell_type": "code",
      "source": [
        "# b[..., tf.newaxis]\n",
        "tf.expand_dims(b, axis= -2) #both are used in adding extra dimensions to the tensor"
      ],
      "metadata": {
        "colab": {
          "base_uri": "https://localhost:8080/"
        },
        "id": "fR7jh-8u8uGE",
        "outputId": "84cd2920-efd2-4f9a-cc59-daf2b7da152d"
      },
      "execution_count": null,
      "outputs": [
        {
          "output_type": "execute_result",
          "data": {
            "text/plain": [
              "<tf.Tensor: shape=(2, 2, 1, 3), dtype=float32, numpy=\n",
              "array([[[[1., 1., 1.]],\n",
              "\n",
              "        [[1., 1., 1.]]],\n",
              "\n",
              "\n",
              "       [[[1., 1., 1.]],\n",
              "\n",
              "        [[1., 1., 1.]]]], dtype=float32)>"
            ]
          },
          "metadata": {},
          "execution_count": 74
        }
      ]
    },
    {
      "cell_type": "code",
      "source": [
        "import numpy as np #converting a numpy array into a tensor and reshaping it\n",
        "c = np.arange(1, 25)\n",
        "c = tf.constant(c)\n",
        "print(c)\n",
        "c = tf.reshape(c, [2, 2, 3, 2])\n",
        "c\n"
      ],
      "metadata": {
        "colab": {
          "base_uri": "https://localhost:8080/"
        },
        "id": "eal629DRDTTA",
        "outputId": "ed44ae8e-f107-45f7-ccc3-f42d6fa2ae4b"
      },
      "execution_count": null,
      "outputs": [
        {
          "output_type": "stream",
          "name": "stdout",
          "text": [
            "tf.Tensor([ 1  2  3  4  5  6  7  8  9 10 11 12 13 14 15 16 17 18 19 20 21 22 23 24], shape=(24,), dtype=int64)\n"
          ]
        },
        {
          "output_type": "execute_result",
          "data": {
            "text/plain": [
              "<tf.Tensor: shape=(2, 2, 3, 2), dtype=int64, numpy=\n",
              "array([[[[ 1,  2],\n",
              "         [ 3,  4],\n",
              "         [ 5,  6]],\n",
              "\n",
              "        [[ 7,  8],\n",
              "         [ 9, 10],\n",
              "         [11, 12]]],\n",
              "\n",
              "\n",
              "       [[[13, 14],\n",
              "         [15, 16],\n",
              "         [17, 18]],\n",
              "\n",
              "        [[19, 20],\n",
              "         [21, 22],\n",
              "         [23, 24]]]])>"
            ]
          },
          "metadata": {},
          "execution_count": 96
        }
      ]
    },
    {
      "cell_type": "code",
      "source": [
        "# Multiplying of tensor matrixes\n",
        "d = tf.constant([[2, 3],\n",
        "                 [5, 6],\n",
        "                 [4, 8]])\n",
        "e = tf.constant([[3, 4, 5],\n",
        "                 [2, 8, 6]])\n",
        "E = tf.linalg.matmul(d, e)\n",
        "E\n",
        "# tf.size(E).numpy()"
      ],
      "metadata": {
        "colab": {
          "base_uri": "https://localhost:8080/"
        },
        "id": "Pz4LLu8rKZ6f",
        "outputId": "156b8ff3-abec-4969-a242-0207024df131"
      },
      "execution_count": null,
      "outputs": [
        {
          "output_type": "execute_result",
          "data": {
            "text/plain": [
              "<tf.Tensor: shape=(3, 3), dtype=int32, numpy=\n",
              "array([[12, 32, 28],\n",
              "       [27, 68, 61],\n",
              "       [28, 80, 68]], dtype=int32)>"
            ]
          },
          "metadata": {},
          "execution_count": 102
        }
      ]
    },
    {
      "cell_type": "code",
      "source": [
        "tf.transpose(E) #transpose of tensor"
      ],
      "metadata": {
        "colab": {
          "base_uri": "https://localhost:8080/"
        },
        "id": "fWq2HNh-PMR4",
        "outputId": "8899bde5-28fc-4cd2-b1c9-5671538bec26"
      },
      "execution_count": null,
      "outputs": [
        {
          "output_type": "execute_result",
          "data": {
            "text/plain": [
              "<tf.Tensor: shape=(3, 3), dtype=int32, numpy=\n",
              "array([[12, 27, 28],\n",
              "       [32, 68, 80],\n",
              "       [28, 61, 68]], dtype=int32)>"
            ]
          },
          "metadata": {},
          "execution_count": 104
        }
      ]
    },
    {
      "cell_type": "code",
      "source": [
        "tf.matmul(tf.transpose(E), d)"
      ],
      "metadata": {
        "colab": {
          "base_uri": "https://localhost:8080/"
        },
        "id": "nHpHtanajfjF",
        "outputId": "9446f05d-b484-4d0c-ad3e-9ecc93799fee"
      },
      "execution_count": null,
      "outputs": [
        {
          "output_type": "execute_result",
          "data": {
            "text/plain": [
              "<tf.Tensor: shape=(3, 2), dtype=int32, numpy=\n",
              "array([[ 271,  422],\n",
              "       [ 724, 1144],\n",
              "       [ 633,  994]], dtype=int32)>"
            ]
          },
          "metadata": {},
          "execution_count": 105
        }
      ]
    },
    {
      "cell_type": "code",
      "source": [
        "f = tf.tensordot(d, e, axes=0)\n",
        "f"
      ],
      "metadata": {
        "colab": {
          "base_uri": "https://localhost:8080/"
        },
        "id": "kSXx_RTGlkh2",
        "outputId": "c743e1dc-a952-4422-fcbd-f5edaffc45b3"
      },
      "execution_count": null,
      "outputs": [
        {
          "output_type": "execute_result",
          "data": {
            "text/plain": [
              "<tf.Tensor: shape=(3, 2, 2, 3), dtype=int32, numpy=\n",
              "array([[[[ 6,  8, 10],\n",
              "         [ 4, 16, 12]],\n",
              "\n",
              "        [[ 9, 12, 15],\n",
              "         [ 6, 24, 18]]],\n",
              "\n",
              "\n",
              "       [[[15, 20, 25],\n",
              "         [10, 40, 30]],\n",
              "\n",
              "        [[18, 24, 30],\n",
              "         [12, 48, 36]]],\n",
              "\n",
              "\n",
              "       [[[12, 16, 20],\n",
              "         [ 8, 32, 24]],\n",
              "\n",
              "        [[24, 32, 40],\n",
              "         [16, 64, 48]]]], dtype=int32)>"
            ]
          },
          "metadata": {},
          "execution_count": 114
        }
      ]
    },
    {
      "cell_type": "code",
      "source": [
        "# reduced precision(dtype of floats from 32 to 16)\n",
        "f = tf.cast(f, dtype=tf.float16) #here I converted the dtpye from int to float\n",
        "f, f.dtype"
      ],
      "metadata": {
        "colab": {
          "base_uri": "https://localhost:8080/"
        },
        "id": "d1s1YW-sw_fN",
        "outputId": "8b920053-e7d1-44a9-d88b-a87820f354b9"
      },
      "execution_count": null,
      "outputs": [
        {
          "output_type": "execute_result",
          "data": {
            "text/plain": [
              "(<tf.Tensor: shape=(3, 2, 2, 3), dtype=float16, numpy=\n",
              " array([[[[ 6.,  8., 10.],\n",
              "          [ 4., 16., 12.]],\n",
              " \n",
              "         [[ 9., 12., 15.],\n",
              "          [ 6., 24., 18.]]],\n",
              " \n",
              " \n",
              "        [[[15., 20., 25.],\n",
              "          [10., 40., 30.]],\n",
              " \n",
              "         [[18., 24., 30.],\n",
              "          [12., 48., 36.]]],\n",
              " \n",
              " \n",
              "        [[[12., 16., 20.],\n",
              "          [ 8., 32., 24.]],\n",
              " \n",
              "         [[24., 32., 40.],\n",
              "          [16., 64., 48.]]]], dtype=float16)>, tf.float16)"
            ]
          },
          "metadata": {},
          "execution_count": 117
        }
      ]
    },
    {
      "cell_type": "code",
      "source": [
        "g = tf.cast(f, dtype=tf.int8) # the float to int again\n",
        "g, g.dtype"
      ],
      "metadata": {
        "colab": {
          "base_uri": "https://localhost:8080/"
        },
        "id": "7hzEhvCj3LmT",
        "outputId": "c8b06230-6463-4846-f0ba-738363ef91d6"
      },
      "execution_count": null,
      "outputs": [
        {
          "output_type": "execute_result",
          "data": {
            "text/plain": [
              "(<tf.Tensor: shape=(3, 2, 2, 3), dtype=int8, numpy=\n",
              " array([[[[ 6,  8, 10],\n",
              "          [ 4, 16, 12]],\n",
              " \n",
              "         [[ 9, 12, 15],\n",
              "          [ 6, 24, 18]]],\n",
              " \n",
              " \n",
              "        [[[15, 20, 25],\n",
              "          [10, 40, 30]],\n",
              " \n",
              "         [[18, 24, 30],\n",
              "          [12, 48, 36]]],\n",
              " \n",
              " \n",
              "        [[[12, 16, 20],\n",
              "          [ 8, 32, 24]],\n",
              " \n",
              "         [[24, 32, 40],\n",
              "          [16, 64, 48]]]], dtype=int8)>, tf.int8)"
            ]
          },
          "metadata": {},
          "execution_count": 123
        }
      ]
    },
    {
      "cell_type": "code",
      "source": [
        "# Aggregating tensors\n",
        "A1 = tf.constant([[-3, 5],\n",
        "                  [-4, 9],\n",
        "                  [4.5, -3]])\n",
        "# A1.ndim\n",
        "tf.abs(A1)"
      ],
      "metadata": {
        "colab": {
          "base_uri": "https://localhost:8080/"
        },
        "id": "iHXHnXh95jaD",
        "outputId": "145ebb53-7e1d-4f77-c11b-843cef6402fa"
      },
      "execution_count": null,
      "outputs": [
        {
          "output_type": "execute_result",
          "data": {
            "text/plain": [
              "<tf.Tensor: shape=(3, 2), dtype=float32, numpy=\n",
              "array([[3. , 5. ],\n",
              "       [4. , 9. ],\n",
              "       [4.5, 3. ]], dtype=float32)>"
            ]
          },
          "metadata": {},
          "execution_count": 127
        }
      ]
    },
    {
      "cell_type": "code",
      "source": [
        "A2 = tf.cast(A1, dtype = tf.int16)\n",
        "A2 = tf.reshape(A2, [2, 3, 1])\n",
        "print(\"The tensor\", \"\\n\", A2)\n",
        "print('The absolute value of the tensor', \"\\n\", tf.abs(A2)), \"\\n\"\n",
        "A2.dtype, tf.size(A2).numpy()"
      ],
      "metadata": {
        "colab": {
          "base_uri": "https://localhost:8080/"
        },
        "id": "Nc19mwms-NJF",
        "outputId": "a52f6f68-bea5-4851-fbed-90d1ca6355d2"
      },
      "execution_count": null,
      "outputs": [
        {
          "output_type": "stream",
          "name": "stdout",
          "text": [
            "The tensor \n",
            " tf.Tensor(\n",
            "[[[-3]\n",
            "  [ 5]\n",
            "  [-4]]\n",
            "\n",
            " [[ 9]\n",
            "  [ 4]\n",
            "  [-3]]], shape=(2, 3, 1), dtype=int16)\n",
            "The absolute value of the tensor \n",
            " tf.Tensor(\n",
            "[[[3]\n",
            "  [5]\n",
            "  [4]]\n",
            "\n",
            " [[9]\n",
            "  [4]\n",
            "  [3]]], shape=(2, 3, 1), dtype=int16)\n"
          ]
        },
        {
          "output_type": "execute_result",
          "data": {
            "text/plain": [
              "(tf.int16, 6)"
            ]
          },
          "metadata": {},
          "execution_count": 147
        }
      ]
    },
    {
      "cell_type": "code",
      "source": [
        "tf.size(A2).numpy(), tf.shape(A2)"
      ],
      "metadata": {
        "id": "h5u7NnCxBimo",
        "colab": {
          "base_uri": "https://localhost:8080/"
        },
        "outputId": "f283f478-55dd-46d7-f37f-d79b67768ff8"
      },
      "execution_count": 151,
      "outputs": [
        {
          "output_type": "execute_result",
          "data": {
            "text/plain": [
              "(6, <tf.Tensor: shape=(3,), dtype=int32, numpy=array([2, 3, 1], dtype=int32)>)"
            ]
          },
          "metadata": {},
          "execution_count": 151
        }
      ]
    }
  ]
}