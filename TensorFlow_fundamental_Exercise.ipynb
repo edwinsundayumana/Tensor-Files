{
  "nbformat": 4,
  "nbformat_minor": 0,
  "metadata": {
    "colab": {
      "provenance": [],
      "collapsed_sections": [],
      "authorship_tag": "ABX9TyOM1a4mGXr1mjZ0Dsvi8aR/"
    },
    "kernelspec": {
      "name": "python3",
      "display_name": "Python 3"
    },
    "language_info": {
      "name": "python"
    }
  },
  "cells": [
    {
      "cell_type": "markdown",
      "source": [
        "Create a vector, scalar, matrix and tensor with values of your choosing using tf.constant().\n",
        "\n",
        "Find the shape, rank and size of the tensors you created in 1.\n",
        "\n",
        "Create two tensors containing random values between 0 and 1 with shape [5, 300].\n",
        "\n",
        "Multiply the two tensors you created in 3 using matrix multiplication.\n",
        "\n",
        "Multiply the two tensors you created in 3 using dot product.\n",
        "\n",
        "Create a tensor with random values between 0 and 1 with shape [224, 224, 3].\n",
        "\n",
        "Find the min and max values of the tensor you created in 6.\n",
        "\n",
        "Created a tensor with random values of shape [1, 224, 224, 3] then squeeze it to change the shape to [224, 224, 3].\n",
        "\n",
        "Create a tensor with shape [10] using your own choice of values, then find the index which has the maximum value.\n",
        "\n",
        "One-hot encode the tensor you created in 9."
      ],
      "metadata": {
        "id": "kggEMQsERR3F"
      }
    },
    {
      "cell_type": "code",
      "source": [
        "import tensorflow as tf\n",
        "print (tf.__version__)"
      ],
      "metadata": {
        "colab": {
          "base_uri": "https://localhost:8080/"
        },
        "id": "_G9RobIKWso5",
        "outputId": "b0d27a20-bf30-451b-c3be-506c1826d69d"
      },
      "execution_count": 1,
      "outputs": [
        {
          "output_type": "stream",
          "name": "stdout",
          "text": [
            "2.8.2\n"
          ]
        }
      ]
    },
    {
      "cell_type": "code",
      "source": [
        "# creating a scaler, vector, matrix and tensor\n",
        "sc = tf.constant(2)\n",
        "vc = tf.constant([2, 3])\n",
        "ma = tf.constant([[10, 3],\n",
        "                  [5, 8]])\n",
        "ts = tf.constant([[[10, 5],\n",
        "                   [3, 5]],\n",
        "                  [[7, 9],\n",
        "                   [8, 6]]])\n",
        "sc, vc, ma, ts"
      ],
      "metadata": {
        "colab": {
          "base_uri": "https://localhost:8080/"
        },
        "id": "8OfgkyxGSHGy",
        "outputId": "12cdc911-dee1-4875-c438-49041a462c47"
      },
      "execution_count": 2,
      "outputs": [
        {
          "output_type": "execute_result",
          "data": {
            "text/plain": [
              "(<tf.Tensor: shape=(), dtype=int32, numpy=2>,\n",
              " <tf.Tensor: shape=(2,), dtype=int32, numpy=array([2, 3], dtype=int32)>,\n",
              " <tf.Tensor: shape=(2, 2), dtype=int32, numpy=\n",
              " array([[10,  3],\n",
              "        [ 5,  8]], dtype=int32)>,\n",
              " <tf.Tensor: shape=(2, 2, 2), dtype=int32, numpy=\n",
              " array([[[10,  5],\n",
              "         [ 3,  5]],\n",
              " \n",
              "        [[ 7,  9],\n",
              "         [ 8,  6]]], dtype=int32)>)"
            ]
          },
          "metadata": {},
          "execution_count": 2
        }
      ]
    },
    {
      "cell_type": "code",
      "source": [
        "# dimensions of the variables created\n",
        "sc.ndim, vc.ndim, ma.ndim, ts.ndim"
      ],
      "metadata": {
        "colab": {
          "base_uri": "https://localhost:8080/"
        },
        "id": "2XRGWT4dYZZX",
        "outputId": "e52e6945-79cf-4257-d024-f1a91d22ac2c"
      },
      "execution_count": 3,
      "outputs": [
        {
          "output_type": "execute_result",
          "data": {
            "text/plain": [
              "(0, 1, 2, 3)"
            ]
          },
          "metadata": {},
          "execution_count": 3
        }
      ]
    },
    {
      "cell_type": "code",
      "source": [
        "# checking the sizes of the tensor\n",
        "tf.size(sc), tf.size(vc), tf.size(ma), tf.size(ts)"
      ],
      "metadata": {
        "colab": {
          "base_uri": "https://localhost:8080/"
        },
        "id": "GExZNM9ZYs-K",
        "outputId": "f24ef189-e89d-4e04-b475-11831c396224"
      },
      "execution_count": 4,
      "outputs": [
        {
          "output_type": "execute_result",
          "data": {
            "text/plain": [
              "(<tf.Tensor: shape=(), dtype=int32, numpy=1>,\n",
              " <tf.Tensor: shape=(), dtype=int32, numpy=2>,\n",
              " <tf.Tensor: shape=(), dtype=int32, numpy=4>,\n",
              " <tf.Tensor: shape=(), dtype=int32, numpy=8>)"
            ]
          },
          "metadata": {},
          "execution_count": 4
        }
      ]
    },
    {
      "cell_type": "code",
      "source": [
        "# Create two tensors containing random values between 0 and 1 with shape [5, 300].\n",
        "A1 = tf.random.Generator.from_seed(42)\n",
        "A1 = A1.normal(shape=(5,300))\n",
        "A2 = tf.random.Generator.from_seed(40)\n",
        "A2 = A2.normal(shape=(5,300))\n",
        "A1, A2"
      ],
      "metadata": {
        "colab": {
          "base_uri": "https://localhost:8080/"
        },
        "id": "xQU8g296ZTMW",
        "outputId": "134324d7-313e-4cc5-ba23-b1bc41e27220"
      },
      "execution_count": 10,
      "outputs": [
        {
          "output_type": "execute_result",
          "data": {
            "text/plain": [
              "(<tf.Tensor: shape=(5, 300), dtype=float32, numpy=\n",
              " array([[-0.7565803 , -0.06854702,  0.07595026, ..., -1.071834  ,\n",
              "         -1.0722276 , -0.00586287],\n",
              "        [-0.88051033, -0.32426047, -2.4847078 , ...,  0.16512105,\n",
              "          1.155565  , -0.10707551],\n",
              "        [-1.5306779 , -0.86202925, -0.16359143, ...,  0.34288085,\n",
              "          1.216793  , -1.24293   ],\n",
              "        [ 0.84324265, -0.23379943,  0.4276398 , ..., -1.0428714 ,\n",
              "         -0.73970354,  0.0177109 ],\n",
              "        [ 0.04888754, -0.66408694, -1.787366  , ...,  0.1947453 ,\n",
              "          0.5656089 ,  0.18439196]], dtype=float32)>,\n",
              " <tf.Tensor: shape=(5, 300), dtype=float32, numpy=\n",
              " array([[ 0.78953624,  0.53897345, -0.48535708, ..., -1.655111  ,\n",
              "          0.20270453, -0.05907417],\n",
              "        [-0.08876546, -0.2818856 , -1.2894468 , ..., -0.36720887,\n",
              "         -0.40844494, -0.9370698 ],\n",
              "        [-0.75371194, -1.7472465 , -0.26269418, ..., -2.465845  ,\n",
              "         -1.1038724 ,  0.5590708 ],\n",
              "        [-0.9807223 , -0.16120234,  1.0154027 , ...,  0.3698049 ,\n",
              "         -0.41299313,  0.9122452 ],\n",
              "        [-1.0661197 , -1.8173325 , -0.9018163 , ...,  0.1328415 ,\n",
              "         -0.00674214,  0.83872926]], dtype=float32)>)"
            ]
          },
          "metadata": {},
          "execution_count": 10
        }
      ]
    },
    {
      "cell_type": "code",
      "source": [
        "# multiplying both tensors\n",
        "tf.multiply(A1, A2)"
      ],
      "metadata": {
        "colab": {
          "base_uri": "https://localhost:8080/"
        },
        "id": "nIVWh_lFdCFO",
        "outputId": "7bcf22f8-3f33-47b2-9c9e-36be1f7e7914"
      },
      "execution_count": 12,
      "outputs": [
        {
          "output_type": "execute_result",
          "data": {
            "text/plain": [
              "<tf.Tensor: shape=(5, 300), dtype=float32, numpy=\n",
              "array([[-5.9734756e-01, -3.6945023e-02, -3.6862995e-02, ...,\n",
              "         1.7740041e+00, -2.1734540e-01,  3.4634423e-04],\n",
              "       [ 7.8158900e-02,  9.1404356e-02,  3.2038987e+00, ...,\n",
              "        -6.0633913e-02, -4.7198468e-01,  1.0033723e-01],\n",
              "       [ 1.1536902e+00,  1.5061775e+00,  4.2974517e-02, ...,\n",
              "        -8.4549105e-01, -1.3431841e+00, -6.9488591e-01],\n",
              "       [-8.2698685e-01,  3.7689015e-02,  4.3422660e-01, ...,\n",
              "        -3.8565892e-01,  3.0549249e-01,  1.6156685e-02],\n",
              "       [-5.2119963e-02,  1.2068667e+00,  1.6118759e+00, ...,\n",
              "         2.5870258e-02, -3.8134153e-03,  1.5465494e-01]], dtype=float32)>"
            ]
          },
          "metadata": {},
          "execution_count": 12
        }
      ]
    },
    {
      "cell_type": "code",
      "source": [
        "# Multiplying using dotproduct\n",
        "A2 = tf.reshape(A2, [300,5])\n",
        "tf.tensordot(A1, A2, axes=1)"
      ],
      "metadata": {
        "colab": {
          "base_uri": "https://localhost:8080/"
        },
        "id": "slF5oSEad2so",
        "outputId": "51a750e5-2637-4d76-ff7e-02d7ba6b92df"
      },
      "execution_count": 14,
      "outputs": [
        {
          "output_type": "execute_result",
          "data": {
            "text/plain": [
              "<tf.Tensor: shape=(5, 5), dtype=float32, numpy=\n",
              "array([[-11.416164 , -25.903225 ,  -2.026891 ,  14.872477 , -14.520887 ],\n",
              "       [-12.685434 , -12.168114 , -13.383297 , -16.040981 ,  30.11199  ],\n",
              "       [ -5.931279 ,  33.133007 ,   3.102962 ,  15.162788 , -32.050903 ],\n",
              "       [ 12.049271 , -39.353737 , -31.531788 ,  -7.3040724, -15.2411585],\n",
              "       [ -1.9300346,  24.349224 ,   4.8790627,  41.730118 ,  23.65246  ]],\n",
              "      dtype=float32)>"
            ]
          },
          "metadata": {},
          "execution_count": 14
        }
      ]
    },
    {
      "cell_type": "code",
      "source": [
        "# Create a tensor with random values between 0 and 1 with shape [224, 224, 3].\n",
        "A3 = tf.random.Generator.from_seed(42)\n",
        "A3 = A3.normal(shape=(224, 224, 3))\n",
        "A3"
      ],
      "metadata": {
        "colab": {
          "base_uri": "https://localhost:8080/"
        },
        "id": "VhhF3-Ezegc4",
        "outputId": "e1c3e719-5e4a-438b-b9cb-c6eafd8deb36"
      },
      "execution_count": 16,
      "outputs": [
        {
          "output_type": "execute_result",
          "data": {
            "text/plain": [
              "<tf.Tensor: shape=(224, 224, 3), dtype=float32, numpy=\n",
              "array([[[-0.7565803 , -0.06854702,  0.07595026],\n",
              "        [-1.2573844 , -0.23193763, -1.8107855 ],\n",
              "        [ 0.09988727, -0.50998646, -0.7535805 ],\n",
              "        ...,\n",
              "        [ 0.07099114, -0.5095768 ,  0.3482001 ],\n",
              "        [ 0.15985982, -1.9042184 ,  0.9690504 ],\n",
              "        [ 0.16251186, -0.07330752, -0.360591  ]],\n",
              "\n",
              "       [[ 0.18739441, -0.73353654,  1.2104433 ],\n",
              "        [ 1.5603006 , -0.48115277,  0.6335167 ],\n",
              "        [-0.5612103 ,  0.06994031,  1.6807095 ],\n",
              "        ...,\n",
              "        [-1.9460293 , -0.7977275 ,  0.03092833],\n",
              "        [ 0.8297488 ,  0.12179119,  1.0506107 ],\n",
              "        [-1.3097638 ,  0.92536974, -1.1787732 ]],\n",
              "\n",
              "       [[-0.21711822, -0.73974085, -1.3077081 ],\n",
              "        [-0.7502274 , -0.37715855, -0.30130875],\n",
              "        [ 1.0943383 ,  0.255803  ,  0.8011465 ],\n",
              "        ...,\n",
              "        [-0.32833767, -0.7794747 ,  0.20049338],\n",
              "        [-0.09002841,  0.07243238, -0.81940895],\n",
              "        [ 0.3171264 , -1.6143695 , -1.6824651 ]],\n",
              "\n",
              "       ...,\n",
              "\n",
              "       [[-0.4106899 , -0.3995463 ,  0.16299413],\n",
              "        [-0.82463205,  1.1320542 ,  0.43792692],\n",
              "        [-0.7639474 , -1.12663   , -0.7207727 ],\n",
              "        ...,\n",
              "        [-0.8531011 , -0.53761154, -0.32857296],\n",
              "        [ 0.9262249 , -1.2425404 , -0.69937414],\n",
              "        [ 1.7450827 ,  1.2275221 ,  0.7955962 ]],\n",
              "\n",
              "       [[-1.0337651 , -2.0142937 ,  0.20993443],\n",
              "        [-0.54768926, -0.4617833 ,  0.15565316],\n",
              "        [-0.83341664, -0.24888954, -1.045123  ],\n",
              "        ...,\n",
              "        [ 2.1425858 ,  1.0908573 ,  0.5777537 ],\n",
              "        [ 0.1725258 , -0.93706477, -0.5235085 ],\n",
              "        [-1.6538908 ,  0.10763748,  0.1024353 ]],\n",
              "\n",
              "       [[-0.82148445, -0.04988056,  0.5157987 ],\n",
              "        [ 0.328913  ,  0.25311732,  1.7136203 ],\n",
              "        [-0.7098217 ,  0.40330094, -1.3882406 ],\n",
              "        ...,\n",
              "        [ 0.14991115,  1.8622528 , -0.7413897 ],\n",
              "        [-0.07112624, -0.7579811 , -0.9618234 ],\n",
              "        [-1.3569822 , -1.5307596 , -0.91243464]]], dtype=float32)>"
            ]
          },
          "metadata": {},
          "execution_count": 16
        }
      ]
    },
    {
      "cell_type": "code",
      "source": [
        "tf.reduce_min(A3), tf.reduce_max(A3)"
      ],
      "metadata": {
        "colab": {
          "base_uri": "https://localhost:8080/"
        },
        "id": "Lw3JZPcAi_A3",
        "outputId": "46df4ed7-5ae8-4935-dba9-48ab4572ee2b"
      },
      "execution_count": 18,
      "outputs": [
        {
          "output_type": "execute_result",
          "data": {
            "text/plain": [
              "(<tf.Tensor: shape=(), dtype=float32, numpy=-4.848316>,\n",
              " <tf.Tensor: shape=(), dtype=float32, numpy=4.4032865>)"
            ]
          },
          "metadata": {},
          "execution_count": 18
        }
      ]
    },
    {
      "cell_type": "code",
      "source": [
        "# Create a tensor with random values of shape [1, 224, 224, 3] then squeeze it to change the shape to [224, 224, 3].\n",
        "A4 = tf.random.Generator.from_seed(41)\n",
        "A4 = A4.normal(shape=(1, 224, 224, 3))\n",
        "A4"
      ],
      "metadata": {
        "colab": {
          "base_uri": "https://localhost:8080/"
        },
        "id": "Dc-_iwvujz2r",
        "outputId": "d7c7e268-a95a-4ccd-abb9-3ee8bc85b8ee"
      },
      "execution_count": 20,
      "outputs": [
        {
          "output_type": "execute_result",
          "data": {
            "text/plain": [
              "<tf.Tensor: shape=(1, 224, 224, 3), dtype=float32, numpy=\n",
              "array([[[[ 0.31662667, -1.4391748 ,  0.58923835],\n",
              "         [-1.4268045 , -0.7565803 , -0.06854702],\n",
              "         [ 0.07595026, -1.2573844 , -0.23193763],\n",
              "         ...,\n",
              "         [-0.6170378 , -0.63352513,  0.5734031 ],\n",
              "         [-0.2029834 ,  0.07099114, -0.5095768 ],\n",
              "         [ 0.3482001 ,  0.15985982, -1.9042184 ]],\n",
              "\n",
              "        [[ 0.9690504 ,  0.16251186, -0.07330752],\n",
              "         [-0.360591  ,  0.18739441, -0.73353654],\n",
              "         [ 1.2104433 ,  1.5603006 , -0.48115277],\n",
              "         ...,\n",
              "         [-0.01129926,  1.6280283 ,  0.54630095],\n",
              "         [ 1.7401857 , -1.9460293 , -0.7977275 ],\n",
              "         [ 0.03092833,  0.8297488 ,  0.12179119]],\n",
              "\n",
              "        [[ 1.0506107 , -1.3097638 ,  0.92536974],\n",
              "         [-1.1787732 , -0.21711822, -0.73974085],\n",
              "         [-1.3077081 , -0.7502274 , -0.37715855],\n",
              "         ...,\n",
              "         [-0.4088551 ,  1.0206331 , -0.6284685 ],\n",
              "         [-0.08360445, -0.32833767, -0.7794747 ],\n",
              "         [ 0.20049338, -0.09002841,  0.07243238]],\n",
              "\n",
              "        ...,\n",
              "\n",
              "        [[ 2.1245656 ,  0.10634488, -0.12725097],\n",
              "         [ 0.07654417, -0.4106899 , -0.3995463 ],\n",
              "         [ 0.16299413, -0.82463205,  1.1320542 ],\n",
              "         ...,\n",
              "         [ 1.3194214 ,  0.56454515, -0.6349588 ],\n",
              "         [-0.27746817, -0.8531011 , -0.53761154],\n",
              "         [-0.32857296,  0.9262249 , -1.2425404 ]],\n",
              "\n",
              "        [[-0.69937414,  1.7450827 ,  1.2275221 ],\n",
              "         [ 0.7955962 , -1.0337651 , -2.0142937 ],\n",
              "         [ 0.20993443, -0.54768926, -0.4617833 ],\n",
              "         ...,\n",
              "         [-0.73080736, -0.1773053 ,  0.12347382],\n",
              "         [ 0.15307285,  2.1425858 ,  1.0908573 ],\n",
              "         [ 0.5777537 ,  0.1725258 , -0.93706477]],\n",
              "\n",
              "        [[-0.5235085 , -1.6538908 ,  0.10763748],\n",
              "         [ 0.1024353 , -0.82148445, -0.04988056],\n",
              "         [ 0.5157987 ,  0.328913  ,  0.25311732],\n",
              "         ...,\n",
              "         [ 0.54042304,  1.4108521 , -1.4963696 ],\n",
              "         [-0.18470417,  0.14991115,  1.8622528 ],\n",
              "         [-0.7413897 , -0.07112624, -0.7579811 ]]]], dtype=float32)>"
            ]
          },
          "metadata": {},
          "execution_count": 20
        }
      ]
    },
    {
      "cell_type": "code",
      "source": [
        "tf.squeeze(A4)"
      ],
      "metadata": {
        "colab": {
          "base_uri": "https://localhost:8080/"
        },
        "id": "_R4wVE60m-yH",
        "outputId": "c4e77b9d-2ae7-440f-f0c8-fd7a2752801c"
      },
      "execution_count": 21,
      "outputs": [
        {
          "output_type": "execute_result",
          "data": {
            "text/plain": [
              "<tf.Tensor: shape=(224, 224, 3), dtype=float32, numpy=\n",
              "array([[[ 0.31662667, -1.4391748 ,  0.58923835],\n",
              "        [-1.4268045 , -0.7565803 , -0.06854702],\n",
              "        [ 0.07595026, -1.2573844 , -0.23193763],\n",
              "        ...,\n",
              "        [-0.6170378 , -0.63352513,  0.5734031 ],\n",
              "        [-0.2029834 ,  0.07099114, -0.5095768 ],\n",
              "        [ 0.3482001 ,  0.15985982, -1.9042184 ]],\n",
              "\n",
              "       [[ 0.9690504 ,  0.16251186, -0.07330752],\n",
              "        [-0.360591  ,  0.18739441, -0.73353654],\n",
              "        [ 1.2104433 ,  1.5603006 , -0.48115277],\n",
              "        ...,\n",
              "        [-0.01129926,  1.6280283 ,  0.54630095],\n",
              "        [ 1.7401857 , -1.9460293 , -0.7977275 ],\n",
              "        [ 0.03092833,  0.8297488 ,  0.12179119]],\n",
              "\n",
              "       [[ 1.0506107 , -1.3097638 ,  0.92536974],\n",
              "        [-1.1787732 , -0.21711822, -0.73974085],\n",
              "        [-1.3077081 , -0.7502274 , -0.37715855],\n",
              "        ...,\n",
              "        [-0.4088551 ,  1.0206331 , -0.6284685 ],\n",
              "        [-0.08360445, -0.32833767, -0.7794747 ],\n",
              "        [ 0.20049338, -0.09002841,  0.07243238]],\n",
              "\n",
              "       ...,\n",
              "\n",
              "       [[ 2.1245656 ,  0.10634488, -0.12725097],\n",
              "        [ 0.07654417, -0.4106899 , -0.3995463 ],\n",
              "        [ 0.16299413, -0.82463205,  1.1320542 ],\n",
              "        ...,\n",
              "        [ 1.3194214 ,  0.56454515, -0.6349588 ],\n",
              "        [-0.27746817, -0.8531011 , -0.53761154],\n",
              "        [-0.32857296,  0.9262249 , -1.2425404 ]],\n",
              "\n",
              "       [[-0.69937414,  1.7450827 ,  1.2275221 ],\n",
              "        [ 0.7955962 , -1.0337651 , -2.0142937 ],\n",
              "        [ 0.20993443, -0.54768926, -0.4617833 ],\n",
              "        ...,\n",
              "        [-0.73080736, -0.1773053 ,  0.12347382],\n",
              "        [ 0.15307285,  2.1425858 ,  1.0908573 ],\n",
              "        [ 0.5777537 ,  0.1725258 , -0.93706477]],\n",
              "\n",
              "       [[-0.5235085 , -1.6538908 ,  0.10763748],\n",
              "        [ 0.1024353 , -0.82148445, -0.04988056],\n",
              "        [ 0.5157987 ,  0.328913  ,  0.25311732],\n",
              "        ...,\n",
              "        [ 0.54042304,  1.4108521 , -1.4963696 ],\n",
              "        [-0.18470417,  0.14991115,  1.8622528 ],\n",
              "        [-0.7413897 , -0.07112624, -0.7579811 ]]], dtype=float32)>"
            ]
          },
          "metadata": {},
          "execution_count": 21
        }
      ]
    },
    {
      "cell_type": "code",
      "source": [
        "# Create a tensor with shape [10] using your own choice of values, then find the index which has the maximum value.\n",
        "A5 = tf.constant([2, 5, 6, 7, 8, 6, 7, 4, 3, 9])\n",
        "A5.shape"
      ],
      "metadata": {
        "colab": {
          "base_uri": "https://localhost:8080/"
        },
        "id": "eXZ1pBGHnVZD",
        "outputId": "6147836d-5a89-4173-abaa-a6334337489f"
      },
      "execution_count": 27,
      "outputs": [
        {
          "output_type": "execute_result",
          "data": {
            "text/plain": [
              "TensorShape([10])"
            ]
          },
          "metadata": {},
          "execution_count": 27
        }
      ]
    },
    {
      "cell_type": "code",
      "source": [
        "# Index with the max value\n",
        "tf.argmax(A5)"
      ],
      "metadata": {
        "colab": {
          "base_uri": "https://localhost:8080/"
        },
        "id": "r6PgDnjZqREl",
        "outputId": "c159218e-906a-48be-8817-5c8774033b50"
      },
      "execution_count": 33,
      "outputs": [
        {
          "output_type": "execute_result",
          "data": {
            "text/plain": [
              "<tf.Tensor: shape=(), dtype=int64, numpy=9>"
            ]
          },
          "metadata": {},
          "execution_count": 33
        }
      ]
    },
    {
      "cell_type": "code",
      "source": [
        "# One-hot encode the tensor you created in 9.\n",
        "tf.one_hot(A5, depth = 10)"
      ],
      "metadata": {
        "colab": {
          "base_uri": "https://localhost:8080/"
        },
        "id": "qHtHY6QxrD0l",
        "outputId": "3b1fdf8d-d7ae-4daa-fcdf-5a0769fe2205"
      },
      "execution_count": 34,
      "outputs": [
        {
          "output_type": "execute_result",
          "data": {
            "text/plain": [
              "<tf.Tensor: shape=(10, 10), dtype=float32, numpy=\n",
              "array([[0., 0., 1., 0., 0., 0., 0., 0., 0., 0.],\n",
              "       [0., 0., 0., 0., 0., 1., 0., 0., 0., 0.],\n",
              "       [0., 0., 0., 0., 0., 0., 1., 0., 0., 0.],\n",
              "       [0., 0., 0., 0., 0., 0., 0., 1., 0., 0.],\n",
              "       [0., 0., 0., 0., 0., 0., 0., 0., 1., 0.],\n",
              "       [0., 0., 0., 0., 0., 0., 1., 0., 0., 0.],\n",
              "       [0., 0., 0., 0., 0., 0., 0., 1., 0., 0.],\n",
              "       [0., 0., 0., 0., 1., 0., 0., 0., 0., 0.],\n",
              "       [0., 0., 0., 1., 0., 0., 0., 0., 0., 0.],\n",
              "       [0., 0., 0., 0., 0., 0., 0., 0., 0., 1.]], dtype=float32)>"
            ]
          },
          "metadata": {},
          "execution_count": 34
        }
      ]
    }
  ]
}